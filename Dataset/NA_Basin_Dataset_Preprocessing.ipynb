{
  "nbformat": 4,
  "nbformat_minor": 0,
  "metadata": {
    "colab": {
      "name": "NA_Basin_Dataset_Preprocessing.ipynb",
      "provenance": []
    },
    "kernelspec": {
      "name": "python3",
      "display_name": "Python 3"
    }
  },
  "cells": [
    {
      "cell_type": "code",
      "metadata": {
        "id": "rWTVSXJpWf_o",
        "colab_type": "code",
        "colab": {}
      },
      "source": [
        "import pandas as pd\n",
        "\n",
        "# Import data\n",
        "data = pd.read_csv('Basin_NA_raw.csv')\n",
        "\n",
        "# Columns to filter\n",
        "Wind_Speed = (data.Wind_Speed > 0)\n",
        "Wind_Pres = (data.Wind_Pres > 0) \n",
        "Season = (data.Season > 1950)\n",
        "\n",
        "# Filter the data\n",
        "mask = Wind_Speed & Wind_Pres & Season\n",
        "filtered_data = data[mask]\n",
        "\n",
        "# Write filtered data to csv file\n",
        "filtered_data.to_csv('Basin_NA_filtered.csv')"
      ],
      "execution_count": 0,
      "outputs": []
    }
  ]
}