{
  "nbformat": 4,
  "nbformat_minor": 0,
  "metadata": {
    "colab": {
      "name": "NA_Basin_Dataset_Preprocessing.ipynb",
      "provenance": [],
      "collapsed_sections": []
    },
    "kernelspec": {
      "name": "python3",
      "display_name": "Python 3"
    }
  },
  "cells": [
    {
      "cell_type": "code",
      "metadata": {
        "id": "rWTVSXJpWf_o",
        "colab_type": "code",
        "colab": {
          "base_uri": "https://localhost:8080/",
          "height": 105
        },
        "outputId": "2aa25900-8c01-408b-bc0d-7b211f5770f3"
      },
      "source": [
        "import pandas as pd\n",
        "\n",
        "# Import data\n",
        "data = pd.read_csv('ibtracs_NA_raw.csv')\n",
        "\n",
        "# Columns to filter\n",
        "print(len(data))\n",
        "Wind_Speed = (data.WMO_WIND != \"\")\n",
        "Wind_Pres = (data.WMO_PRES != \"\") \n",
        "Season = (data.SEASON > 1950)\n",
        "\n",
        "# Filter the data\n",
        "mask = Wind_Speed & Wind_Pres & Season\n",
        "filtered_data = data[mask]\n",
        "\n",
        "# Write filtered data to csv file\n",
        "filtered_data.to_csv('ibtracs.NA_filtered.csv')\n",
        "\n",
        "print(len(filtered_data))"
      ],
      "execution_count": 12,
      "outputs": [
        {
          "output_type": "stream",
          "text": [
            "/usr/local/lib/python3.6/dist-packages/IPython/core/interactiveshell.py:2718: DtypeWarning: Columns (3,19,20,23,24,25,161,162) have mixed types. Specify dtype option on import or set low_memory=False.\n",
            "  interactivity=interactivity, compiler=compiler, result=result)\n"
          ],
          "name": "stderr"
        },
        {
          "output_type": "stream",
          "text": [
            "120219\n",
            "56784\n"
          ],
          "name": "stdout"
        }
      ]
    }
  ]
}